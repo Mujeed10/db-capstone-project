{
 "cells": [
  {
   "cell_type": "code",
   "execution_count": 6,
   "id": "95881cc5-b1ef-423c-b003-ba8c98a5b191",
   "metadata": {},
   "outputs": [],
   "source": [
    "import mysql.connector as connector"
   ]
  },
  {
   "cell_type": "code",
   "execution_count": 8,
   "id": "67041920-03bf-4a9f-8d95-1b7a7eac98d1",
   "metadata": {},
   "outputs": [],
   "source": [
    "connection=connector.connect(user=\"admin1\",password=\"Tenn1022@0201\",host='localhost',\n",
    "    database='littlelemondm')"
   ]
  },
  {
   "cell_type": "code",
   "execution_count": 9,
   "id": "d5a75d4c-3287-4429-9c8e-5ade8eac4424",
   "metadata": {},
   "outputs": [],
   "source": [
    "cursor = connection.cursor()"
   ]
  },
  {
   "cell_type": "code",
   "execution_count": 10,
   "id": "5c59a91b-143d-49e4-ba82-04517258e734",
   "metadata": {},
   "outputs": [],
   "source": [
    "show_tables_query = \"SHOW tables\""
   ]
  },
  {
   "cell_type": "code",
   "execution_count": 11,
   "id": "834fc5d9-89e6-4ade-a20e-4cbc9e799f1c",
   "metadata": {},
   "outputs": [],
   "source": [
    "cursor = connection.cursor()\n",
    "cursor.execute(\"USE littlelemondm\")  # Replace with your actual database name\n"
   ]
  },
  {
   "cell_type": "code",
   "execution_count": 12,
   "id": "cd008610-010e-456d-8ae8-e8a2fcb0a749",
   "metadata": {},
   "outputs": [
    {
     "name": "stdout",
     "output_type": "stream",
     "text": [
      "('bookings',)\n",
      "('customerdetails',)\n",
      "('menu',)\n",
      "('orderdeliverystatus',)\n",
      "('orders',)\n",
      "('staffinformation',)\n"
     ]
    }
   ],
   "source": [
    "show_tables_query = \"SHOW TABLES\"\n",
    "cursor.execute(show_tables_query)\n",
    "results = cursor.fetchall()\n",
    "for table in results:\n",
    "    print(table)\n"
   ]
  },
  {
   "cell_type": "code",
   "execution_count": 17,
   "id": "3e762c39-4191-4cd3-8c37-6edef74dca41",
   "metadata": {},
   "outputs": [],
   "source": [
    "join_query = \"\"\"\n",
    "SELECT CONCAT(customerdetails.FirstName, ' ', customerdetails.LastName) AS FullName, \n",
    "       customerdetails.PhoneNumber, \n",
    "       Orders.TotalCost\n",
    "FROM customerdetails\n",
    "JOIN Orders ON customerdetails.CustomerID = Orders.CustomerID\n",
    "WHERE Orders.TotalCost > 60\n",
    "\"\"\"\n",
    "\n"
   ]
  },
  {
   "cell_type": "code",
   "execution_count": 18,
   "id": "59b32e39-de22-4046-980a-18dc0327b678",
   "metadata": {},
   "outputs": [
    {
     "name": "stdout",
     "output_type": "stream",
     "text": [
      "('MOLCQUEOE YBH', '2633708237', 205)\n",
      "('BOHEWDBHBK FJBQGWF', '5991062985', 171)\n",
      "('THHGCH KNBAF', '4675625193', 207)\n",
      "('VTB UCQJMH', '3362136248', 366)\n",
      "('MOLCQUEOE YBH', '2633708237', 459)\n"
     ]
    }
   ],
   "source": [
    "cursor.execute(join_query)\n",
    "join_results = cursor.fetchall()\n",
    "for row in join_results:\n",
    "    print(row)\n"
   ]
  },
  {
   "cell_type": "code",
   "execution_count": null,
   "id": "0bea7b5f-c2f2-490c-aa43-559f45787409",
   "metadata": {},
   "outputs": [],
   "source": []
  }
 ],
 "metadata": {
  "kernelspec": {
   "display_name": "Python 3",
   "language": "python",
   "name": "python3"
  },
  "language_info": {
   "codemirror_mode": {
    "name": "ipython",
    "version": 3
   },
   "file_extension": ".py",
   "mimetype": "text/x-python",
   "name": "python",
   "nbconvert_exporter": "python",
   "pygments_lexer": "ipython3",
   "version": "3.8.5"
  }
 },
 "nbformat": 4,
 "nbformat_minor": 5
}
